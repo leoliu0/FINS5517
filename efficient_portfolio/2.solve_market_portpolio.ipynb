{
 "cells": [
  {
   "cell_type": "code",
   "execution_count": 1,
   "id": "e5aab548-0de4-466a-8758-f9aee77b5459",
   "metadata": {},
   "outputs": [],
   "source": [
    "import numpy as np\n",
    "import pandas as pd\n",
    "\n",
    "# read return information\n",
    "df = pd.read_csv('stocks.csv')[['ticker','date','ret']]\n",
    "\n",
    "# cut the date to year month\n",
    "df.date = df.date//100\n",
    "\n",
    "# keep only recent 10 years\n",
    "df = df[df.date>201000]\n",
    "\n",
    "# change return to percentage points\n",
    "df['ret'] = df['ret']*100\n",
    "\n",
    "# number of stocks in our data\n",
    "n = 28"
   ]
  },
  {
   "cell_type": "code",
   "execution_count": 2,
   "id": "d1283c4a-57bc-4c8b-a56c-4e97d2280bef",
   "metadata": {},
   "outputs": [],
   "source": [
    "# below code to re-construct the data from long form to short form\n",
    "sample = []\n",
    "for stock in set(df.ticker):\n",
    "        x = df[df.ticker==stock].set_index('date').dropna()\n",
    "        if len(x)>120:\n",
    "            sample.append(x[['ret']].rename({'ret':stock},axis=1))\n",
    "\n",
    "df = pd.concat(sample,axis=1)"
   ]
  },
  {
   "cell_type": "code",
   "execution_count": 3,
   "id": "a63cc301-9a44-41b1-8d47-a08d4b251be2",
   "metadata": {},
   "outputs": [],
   "source": [
    "# initiate equally weighted portfolio\n",
    "w = [1/n]*n"
   ]
  },
  {
   "cell_type": "markdown",
   "id": "3353c0fe-1c6c-474b-8989-46721fa1ee0a",
   "metadata": {},
   "source": [
    "$ w^t \\times V \\times w \\$"
   ]
  },
  {
   "cell_type": "code",
   "execution_count": 4,
   "id": "b07fcf8f-a9b1-4b16-8a5d-834bf0527417",
   "metadata": {},
   "outputs": [],
   "source": [
    "# portfolio variance/std\n",
    "std = np.sqrt(df.cov().mul(w,axis=0).mul(w,axis=1).sum().sum())\n",
    "# portfolio return\n",
    "ret = df.mul(w,axis=1).sum(axis=1).mean()*12"
   ]
  },
  {
   "cell_type": "code",
   "execution_count": 5,
   "id": "83eb5c35-ad76-4f8d-9b97-99eb46cc399f",
   "metadata": {},
   "outputs": [],
   "source": [
    "# generate random weights (between 0 and 1) and re-weight them so that total weight=1\n",
    "w = np.random.rand(n)\n",
    "w = w / w.sum()"
   ]
  },
  {
   "cell_type": "code",
   "execution_count": 6,
   "id": "3bbac997-0795-47cf-a114-4e4b6fcbbb17",
   "metadata": {},
   "outputs": [],
   "source": [
    "# import math library to solve functions (like solver in Excel)\n",
    "from scipy.optimize import minimize"
   ]
  },
  {
   "cell_type": "code",
   "execution_count": 7,
   "id": "40fa8dfe-f9a2-44c8-ad5a-8762bddd7e7a",
   "metadata": {},
   "outputs": [],
   "source": [
    "def sharpe(w):\n",
    "    std = np.sqrt(df.cov().mul(w,axis=0).mul(w,axis=1).sum().sum())\n",
    "    ret = df.mul(w,axis=1).sum(axis=1).mean()*12\n",
    "    # return negative sharpe ratio, so that we can minimize it (equavalent to maxing sharpe ratio)\n",
    "    return -(ret-1.6)/std"
   ]
  },
  {
   "cell_type": "code",
   "execution_count": 10,
   "id": "974e4b2f-c32c-493f-a767-635f516f77cb",
   "metadata": {},
   "outputs": [],
   "source": [
    "res = minimize(sharpe, # this is the function to minimise\n",
    "         w, # initial weights, I set to random weights to begin with\n",
    "         bounds=[(-1,3)]*n, # bounds of weights, I set between -1 and 3\n",
    "         constraints=[# a list of constraints to we need to set\n",
    "             {\"type\":\"eq\",\"fun\":lambda w:w.sum()-1}, \n",
    "             # each constraint is a dict, the \"fun\" define a function equal to 0, \n",
    "             # the weight sum to 1 in this case\n",
    "         ]\n",
    "        )"
   ]
  },
  {
   "cell_type": "code",
   "execution_count": 16,
   "id": "8760b8d6-3d38-4649-9c6e-cc62ab96faec",
   "metadata": {},
   "outputs": [
    {
     "data": {
      "text/plain": [
       "8.474370803614635"
      ]
     },
     "execution_count": 16,
     "metadata": {},
     "output_type": "execute_result"
    }
   ],
   "source": [
    "# the sharpe ratio we obtained\n",
    "-res.fun"
   ]
  },
  {
   "cell_type": "code",
   "execution_count": 17,
   "id": "817f0c82-dd04-4e71-ae78-ac3b6be8e4c0",
   "metadata": {},
   "outputs": [
    {
     "data": {
      "text/plain": [
       "array([ 0.08518165,  0.0568209 ,  0.46086119,  0.06622105,  0.11575887,\n",
       "       -0.15904063, -0.26234858, -0.3004409 ,  0.20589173, -0.16698075,\n",
       "       -0.41562716,  0.07982189,  0.18042069,  0.17229424,  0.23616501,\n",
       "       -0.14872322, -0.03544173,  0.17624663,  0.28634166,  0.14418244,\n",
       "       -0.06991261, -0.05012159,  0.01175525,  0.22597667,  0.01899566,\n",
       "       -0.29587965,  0.17056078,  0.21102051])"
      ]
     },
     "execution_count": 17,
     "metadata": {},
     "output_type": "execute_result"
    }
   ],
   "source": [
    "# market portfolio weights\n",
    "res.x"
   ]
  }
 ],
 "metadata": {
  "kernelspec": {
   "display_name": "Python 3 (ipykernel)",
   "language": "python",
   "name": "python3"
  },
  "language_info": {
   "codemirror_mode": {
    "name": "ipython",
    "version": 3
   },
   "file_extension": ".py",
   "mimetype": "text/x-python",
   "name": "python",
   "nbconvert_exporter": "python",
   "pygments_lexer": "ipython3",
   "version": "3.8.12"
  }
 },
 "nbformat": 4,
 "nbformat_minor": 5
}
