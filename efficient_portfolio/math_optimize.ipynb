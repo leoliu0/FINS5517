{
 "cells": [
  {
   "cell_type": "code",
   "execution_count": 1,
   "id": "83e0b1c6-8a31-4ecf-b8b6-8f60b44d96ff",
   "metadata": {},
   "outputs": [],
   "source": [
    "import numpy as np\n",
    "import pandas as pd"
   ]
  },
  {
   "cell_type": "code",
   "execution_count": 2,
   "id": "a9c2e666-930c-41c2-8854-7a3198c7a049",
   "metadata": {},
   "outputs": [],
   "source": [
    "df = pd.read_csv('stocks.csv')[['ticker','date','ret']]"
   ]
  },
  {
   "cell_type": "code",
   "execution_count": 3,
   "id": "348e5a57-b0fa-41cb-a057-072b04908298",
   "metadata": {},
   "outputs": [],
   "source": [
    "df.date = df.date//100"
   ]
  },
  {
   "cell_type": "code",
   "execution_count": 4,
   "id": "e1e51086-0764-43e5-8f63-0f527e501fe9",
   "metadata": {},
   "outputs": [],
   "source": [
    "df = df[df.date>201000]"
   ]
  },
  {
   "cell_type": "code",
   "execution_count": 5,
   "id": "f82c5c0c-6803-4513-8001-27955e84c33e",
   "metadata": {},
   "outputs": [],
   "source": [
    "df['ret'] = df['ret']*100"
   ]
  },
  {
   "cell_type": "code",
   "execution_count": 6,
   "id": "df1ab838-2767-444a-a27e-8257612f7c16",
   "metadata": {},
   "outputs": [],
   "source": [
    "n = 28"
   ]
  },
  {
   "cell_type": "code",
   "execution_count": 7,
   "id": "bcc382d1-20db-4446-adf5-2dd495a693f8",
   "metadata": {},
   "outputs": [],
   "source": [
    "sample = []\n",
    "for stock in set(df.ticker):\n",
    "        x = df[df.ticker==stock].set_index('date').dropna()\n",
    "        if len(x)>120:\n",
    "            sample.append(x[['ret']].rename({'ret':stock},axis=1))"
   ]
  },
  {
   "cell_type": "code",
   "execution_count": 8,
   "id": "d7b361ed-cde4-43ae-bfb2-d4057fd503ff",
   "metadata": {},
   "outputs": [],
   "source": [
    "df = pd.concat(sample,axis=1)"
   ]
  },
  {
   "cell_type": "code",
   "execution_count": 9,
   "id": "a63cc301-9a44-41b1-8d47-a08d4b251be2",
   "metadata": {},
   "outputs": [],
   "source": [
    "w = [1/n]*n"
   ]
  },
  {
   "cell_type": "markdown",
   "id": "3353c0fe-1c6c-474b-8989-46721fa1ee0a",
   "metadata": {},
   "source": [
    "$ w^t \\times V \\times w \\$"
   ]
  },
  {
   "cell_type": "code",
   "execution_count": 10,
   "id": "b07fcf8f-a9b1-4b16-8a5d-834bf0527417",
   "metadata": {},
   "outputs": [],
   "source": [
    "# portfolio variance\n",
    "std = np.sqrt(df.cov().mul(w,axis=0).mul(w,axis=1).sum().sum())\n",
    "\n",
    "eret = df.mul(w,axis=1).sum(axis=1).mean()*12"
   ]
  },
  {
   "cell_type": "code",
   "execution_count": 11,
   "id": "75f93c2c-b4fc-4265-bf69-370fb6a3373b",
   "metadata": {},
   "outputs": [
    {
     "data": {
      "text/plain": [
       "20.011529940902733"
      ]
     },
     "execution_count": 11,
     "metadata": {},
     "output_type": "execute_result"
    }
   ],
   "source": [
    "np.random.normal(20)"
   ]
  },
  {
   "cell_type": "code",
   "execution_count": 12,
   "id": "83eb5c35-ad76-4f8d-9b97-99eb46cc399f",
   "metadata": {},
   "outputs": [],
   "source": [
    "w = np.random.rand(n)\n",
    "\n",
    "w = w / w.sum()"
   ]
  },
  {
   "cell_type": "code",
   "execution_count": 13,
   "id": "4f75d605-3432-462f-9253-77ce4f6cb2c1",
   "metadata": {},
   "outputs": [],
   "source": [
    "def ret_var(w):\n",
    "    std = np.sqrt(df.cov().mul(w,axis=0).mul(w,axis=1).sum().sum())\n",
    "    eret = df.mul(w,axis=1).sum(axis=1).mean()*12\n",
    "    return eret,std,w"
   ]
  },
  {
   "cell_type": "code",
   "execution_count": 14,
   "id": "3bbac997-0795-47cf-a114-4e4b6fcbbb17",
   "metadata": {},
   "outputs": [],
   "source": [
    "from scipy.optimize import minimize"
   ]
  },
  {
   "cell_type": "code",
   "execution_count": 15,
   "id": "40fa8dfe-f9a2-44c8-ad5a-8762bddd7e7a",
   "metadata": {},
   "outputs": [],
   "source": [
    "def ret_var(w):\n",
    "    std = np.sqrt(df.cov().mul(w,axis=0).mul(w,axis=1).sum().sum())\n",
    "    eret = df.mul(w,axis=1).sum(axis=1).mean()*12\n",
    "    return -(eret-1.6)/std"
   ]
  },
  {
   "cell_type": "code",
   "execution_count": 20,
   "id": "974e4b2f-c32c-493f-a767-635f516f77cb",
   "metadata": {},
   "outputs": [
    {
     "data": {
      "text/plain": [
       "      fun: -8.72394567147885\n",
       " hess_inv: <28x28 LbfgsInvHessProduct with dtype=float64>\n",
       "      jac: array([-1.10134123e-05, -1.01429975e-04, -4.77839990e-05,  6.59028391e-05,\n",
       "       -7.86926080e-05, -1.12265752e-04, -4.05009360e-05, -9.92983468e-05,\n",
       "       -1.21680444e-04,  7.97584221e-05, -7.30082657e-05, -1.07824860e-04,\n",
       "       -4.40536496e-05, -7.53175296e-05, -1.76747506e-04, -6.73239239e-05,\n",
       "        9.41469120e-06, -6.78568313e-05, -8.18900499e-05, -1.66799907e-04,\n",
       "       -7.17648160e-05, -5.75539613e-05,  3.41202620e-03, -3.62376795e-05,\n",
       "       -4.83169061e-05, -5.96855895e-05, -1.64845915e-04,  1.12467901e-01])\n",
       "  message: b'CONVERGENCE: REL_REDUCTION_OF_F_<=_FACTR*EPSMCH'\n",
       "     nfev: 1276\n",
       "      nit: 35\n",
       "     njev: 44\n",
       "   status: 0\n",
       "  success: True\n",
       "        x: array([ 0.6192475 ,  0.77702806, -0.48495795,  1.45335604, -0.08093891,\n",
       "        0.38564206, -0.09125031,  0.53793754,  0.2106531 ,  0.1723635 ,\n",
       "        0.86739089,  0.64957207,  0.21595077, -0.80286867,  0.06891104,\n",
       "       -0.51806507,  0.53164347, -0.20649256,  0.62041371, -0.45775359,\n",
       "        0.57297563,  0.72568028, -1.        , -0.13508589,  0.4444886 ,\n",
       "       -0.87360601,  0.22552894, -1.        ])"
      ]
     },
     "execution_count": 20,
     "metadata": {},
     "output_type": "execute_result"
    }
   ],
   "source": [
    "minimize(ret_var,w,bounds=[(-1,3)]*n)"
   ]
  }
 ],
 "metadata": {
  "kernelspec": {
   "display_name": "Python 3 (ipykernel)",
   "language": "python",
   "name": "python3"
  },
  "language_info": {
   "codemirror_mode": {
    "name": "ipython",
    "version": 3
   },
   "file_extension": ".py",
   "mimetype": "text/x-python",
   "name": "python",
   "nbconvert_exporter": "python",
   "pygments_lexer": "ipython3",
   "version": "3.8.12"
  }
 },
 "nbformat": 4,
 "nbformat_minor": 5
}
