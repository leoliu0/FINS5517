{
 "cells": [
  {
   "cell_type": "code",
   "execution_count": 1,
   "id": "e5aab548-0de4-466a-8758-f9aee77b5459",
   "metadata": {},
   "outputs": [],
   "source": [
    "import numpy as np\n",
    "import pandas as pd\n",
    "\n",
    "# read return information\n",
    "df = pd.read_csv('stocks.csv')[['ticker','date','ret']]\n",
    "\n",
    "# cut the date to year month\n",
    "df.date = df.date//100\n",
    "\n",
    "# keep only recent 10 years\n",
    "df = df[df.date>201000]\n",
    "\n",
    "# change return to percentage points\n",
    "df['ret'] = df['ret']*100\n",
    "\n",
    "# number of stocks in our data\n",
    "n = 28"
   ]
  },
  {
   "cell_type": "code",
   "execution_count": 2,
   "id": "d1283c4a-57bc-4c8b-a56c-4e97d2280bef",
   "metadata": {},
   "outputs": [],
   "source": [
    "# below code to re-construct the data from long form to short form\n",
    "sample = []\n",
    "for stock in set(df.ticker):\n",
    "        x = df[df.ticker==stock].set_index('date').dropna()\n",
    "        if len(x)>120:\n",
    "            sample.append(x[['ret']].rename({'ret':stock},axis=1))\n",
    "\n",
    "df = pd.concat(sample,axis=1)"
   ]
  },
  {
   "cell_type": "code",
   "execution_count": 3,
   "id": "a63cc301-9a44-41b1-8d47-a08d4b251be2",
   "metadata": {},
   "outputs": [],
   "source": [
    "# initiate equally weighted portfolio\n",
    "w = [1/n]*n"
   ]
  },
  {
   "cell_type": "markdown",
   "id": "3353c0fe-1c6c-474b-8989-46721fa1ee0a",
   "metadata": {},
   "source": [
    "$ w^t \\times V \\times w \\$"
   ]
  },
  {
   "cell_type": "code",
   "execution_count": 4,
   "id": "b07fcf8f-a9b1-4b16-8a5d-834bf0527417",
   "metadata": {},
   "outputs": [],
   "source": [
    "# portfolio variance/std\n",
    "std = np.sqrt(df.cov().mul(w,axis=0).mul(w,axis=1).sum().sum())\n",
    "# portfolio return\n",
    "ret = df.mul(w,axis=1).sum(axis=1).mean()*12"
   ]
  },
  {
   "cell_type": "code",
   "execution_count": 5,
   "id": "83eb5c35-ad76-4f8d-9b97-99eb46cc399f",
   "metadata": {},
   "outputs": [],
   "source": [
    "# generate random weights (between 0 and 1) and re-weight them so that total weight=1\n",
    "w = np.random.rand(n)\n",
    "w = w / w.sum()"
   ]
  },
  {
   "cell_type": "code",
   "execution_count": 6,
   "id": "3bbac997-0795-47cf-a114-4e4b6fcbbb17",
   "metadata": {},
   "outputs": [],
   "source": [
    "# import math library to solve functions (like solver in Excel)\n",
    "from scipy.optimize import minimize"
   ]
  },
  {
   "cell_type": "markdown",
   "id": "aefb228d-8dcf-4a31-b12e-c0d53384f3ab",
   "metadata": {},
   "source": [
    "##### the idea is that, for certain returns, we need to find the portfolio with the lowest variance"
   ]
  },
  {
   "cell_type": "code",
   "execution_count": 7,
   "id": "40fa8dfe-f9a2-44c8-ad5a-8762bddd7e7a",
   "metadata": {},
   "outputs": [],
   "source": [
    "def std(w):\n",
    "    std = np.sqrt(df.cov().mul(w,axis=0).mul(w,axis=1).sum().sum())\n",
    "    return std"
   ]
  },
  {
   "cell_type": "code",
   "execution_count": 15,
   "id": "974e4b2f-c32c-493f-a767-635f516f77cb",
   "metadata": {},
   "outputs": [
    {
     "name": "stdout",
     "output_type": "stream",
     "text": [
      "getting MVP for return of 7\n",
      "getting MVP for return of 8\n",
      "getting MVP for return of 9\n",
      "getting MVP for return of 10\n",
      "getting MVP for return of 11\n",
      "getting MVP for return of 12\n",
      "getting MVP for return of 13\n",
      "getting MVP for return of 14\n",
      "getting MVP for return of 15\n",
      "getting MVP for return of 16\n",
      "getting MVP for return of 17\n",
      "getting MVP for return of 18\n",
      "getting MVP for return of 19\n",
      "getting MVP for return of 20\n",
      "getting MVP for return of 21\n",
      "getting MVP for return of 22\n",
      "getting MVP for return of 23\n",
      "getting MVP for return of 24\n",
      "getting MVP for return of 25\n",
      "getting MVP for return of 26\n",
      "getting MVP for return of 27\n",
      "getting MVP for return of 28\n",
      "getting MVP for return of 29\n",
      "getting MVP for return of 30\n",
      "getting MVP for return of 31\n",
      "getting MVP for return of 32\n",
      "getting MVP for return of 33\n",
      "getting MVP for return of 34\n",
      "getting MVP for return of 35\n",
      "getting MVP for return of 36\n",
      "getting MVP for return of 37\n",
      "getting MVP for return of 38\n",
      "getting MVP for return of 39\n"
     ]
    }
   ],
   "source": [
    "save_result = []\n",
    "for target_return in range(7,40):\n",
    "    print(f\"getting MVP for return of {target_return}\")\n",
    "    res = minimize(std, # this is the function to minimise\n",
    "         w, # initial weights, I set to random weights to begin with\n",
    "         bounds=[(-1,3)]*n, # bounds of weights, I set between -1 and 3\n",
    "         constraints=[# a list of constraints to we need to set\n",
    "             # each constraint is a dict, the \"fun\" define a function equal to 0, \n",
    "             # below fun defines that the weight need sum to 1\n",
    "             {\"type\":\"eq\",\"fun\":lambda w:w.sum()-1}, \n",
    "             # below fun defines that return need to be equal to target return\n",
    "             {\"type\":\"eq\",\"fun\":lambda w:df.mul(w,axis=1).sum(axis=1).mean()*12-target_return},\n",
    "         ]\n",
    "        )\n",
    "    save_result.append([res.fun,target_return])"
   ]
  },
  {
   "cell_type": "code",
   "execution_count": 16,
   "id": "8760b8d6-3d38-4649-9c6e-cc62ab96faec",
   "metadata": {},
   "outputs": [
    {
     "data": {
      "text/plain": [
       "<AxesSubplot:xlabel='std'>"
      ]
     },
     "execution_count": 16,
     "metadata": {},
     "output_type": "execute_result"
    },
    {
     "data": {
      "image/png": "[encoded data removed]",
      "text/plain": [
       "<Figure size 432x288 with 1 Axes>"
      ]
     },
     "metadata": {},
     "output_type": "display_data"
    }
   ],
   "source": [
    "# build the dataframe of std and ret and plot efficient frontier\n",
    "pd.DataFrame(save_result,columns=['std','ret']).plot(x='std',y='ret')"
   ]
  }
 ],
 "metadata": {
  "kernelspec": {
   "display_name": "Python 3 (ipykernel)",
   "language": "python",
   "name": "python3"
  },
  "language_info": {
   "codemirror_mode": {
    "name": "ipython",
    "version": 3
   },
   "file_extension": ".py",
   "mimetype": "text/x-python",
   "name": "python",
   "nbconvert_exporter": "python",
   "pygments_lexer": "ipython3",
   "version": "3.8.12"
  }
 },
 "nbformat": 4,
 "nbformat_minor": 5
}
