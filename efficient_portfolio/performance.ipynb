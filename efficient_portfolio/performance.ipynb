{
 "cells": [
  {
   "cell_type": "code",
   "execution_count": 1,
   "id": "83e0b1c6-8a31-4ecf-b8b6-8f60b44d96ff",
   "metadata": {},
   "outputs": [],
   "source": [
    "import numpy as np\n",
    "import pandas as pd"
   ]
  },
  {
   "cell_type": "code",
   "execution_count": 2,
   "id": "df76127d-f13a-4ce3-ab67-deb42390ba2d",
   "metadata": {},
   "outputs": [],
   "source": [
    "from concurrent.futures import ProcessPoolExecutor"
   ]
  },
  {
   "cell_type": "code",
   "execution_count": 3,
   "id": "a9c2e666-930c-41c2-8854-7a3198c7a049",
   "metadata": {},
   "outputs": [],
   "source": [
    "df = pd.read_csv('stocks.csv')[['ticker','date','ret']]"
   ]
  },
  {
   "cell_type": "code",
   "execution_count": 4,
   "id": "348e5a57-b0fa-41cb-a057-072b04908298",
   "metadata": {},
   "outputs": [],
   "source": [
    "df.date = df.date//100"
   ]
  },
  {
   "cell_type": "code",
   "execution_count": 5,
   "id": "e1e51086-0764-43e5-8f63-0f527e501fe9",
   "metadata": {},
   "outputs": [],
   "source": [
    "df = df[df.date>201000]"
   ]
  },
  {
   "cell_type": "code",
   "execution_count": 6,
   "id": "f82c5c0c-6803-4513-8001-27955e84c33e",
   "metadata": {},
   "outputs": [],
   "source": [
    "df['ret'] = df['ret']*100"
   ]
  },
  {
   "cell_type": "code",
   "execution_count": 7,
   "id": "df1ab838-2767-444a-a27e-8257612f7c16",
   "metadata": {},
   "outputs": [],
   "source": [
    "n = 28"
   ]
  },
  {
   "cell_type": "code",
   "execution_count": 8,
   "id": "bcc382d1-20db-4446-adf5-2dd495a693f8",
   "metadata": {},
   "outputs": [],
   "source": [
    "sample = []\n",
    "for stock in set(df.ticker):\n",
    "        x = df[df.ticker==stock].set_index('date').dropna()\n",
    "        if len(x)>120:\n",
    "            sample.append(x[['ret']].rename({'ret':stock},axis=1))"
   ]
  },
  {
   "cell_type": "code",
   "execution_count": 9,
   "id": "d7b361ed-cde4-43ae-bfb2-d4057fd503ff",
   "metadata": {},
   "outputs": [],
   "source": [
    "df = pd.concat(sample,axis=1)"
   ]
  },
  {
   "cell_type": "code",
   "execution_count": 10,
   "id": "4f75d605-3432-462f-9253-77ce4f6cb2c1",
   "metadata": {},
   "outputs": [],
   "source": [
    "def ret_var(w):\n",
    "    std = np.sqrt(df.cov().mul(w,axis=0).mul(w,axis=1).sum().sum())\n",
    "    eret = df.mul(w,axis=1).sum(axis=1).mean()*12\n",
    "    return eret,std,w"
   ]
  },
  {
   "cell_type": "code",
   "execution_count": 18,
   "id": "26fd9d27-974e-454d-bbcf-e84d8e5e24e4",
   "metadata": {},
   "outputs": [],
   "source": [
    "def compute(_):\n",
    "    r = np.random.RandomState()\n",
    "    w = r.rand(n) - r.rand(n)\n",
    "    w = w / w.sum()\n",
    "    if w.max()<3 and w.min()>=-1:\n",
    "        return ret_var(w)\n",
    "    return (None,None,None)"
   ]
  },
  {
   "cell_type": "code",
   "execution_count": null,
   "id": "19c91f73-9a29-4427-985e-df1904a0f636",
   "metadata": {},
   "outputs": [
    {
     "name": "stdout",
     "output_type": "stream",
     "text": [
      "1000 ------ 5.3661922756108025\n",
      "5000 ------ 5.494662763846773\n",
      "10000 ------ 5.964045200168934\n",
      "50000 ------ 6.1184447546726055\n",
      "100000 ------ 6.170295750073656\n",
      "500000 ------ 6.585020007265979\n"
     ]
    }
   ],
   "source": [
    "for runs in [1_000,5_000,10_000,50_000,100_000,500_000,1_000_000]:\n",
    "    with ProcessPoolExecutor() as p:\n",
    "        ports = pd.DataFrame(p.map(compute,range(runs)),columns=['ret','std','w'])\n",
    "        ports['sharpe'] = (ports['ret'] - 1.6)/ports['std']\n",
    "        print(runs, '------',ports.dropna().sharpe.max())"
   ]
  }
 ],
 "metadata": {
  "kernelspec": {
   "display_name": "Python 3 (ipykernel)",
   "language": "python",
   "name": "python3"
  },
  "language_info": {
   "codemirror_mode": {
    "name": "ipython",
    "version": 3
   },
   "file_extension": ".py",
   "mimetype": "text/x-python",
   "name": "python",
   "nbconvert_exporter": "python",
   "pygments_lexer": "ipython3",
   "version": "3.8.12"
  }
 },
 "nbformat": 4,
 "nbformat_minor": 5
}
