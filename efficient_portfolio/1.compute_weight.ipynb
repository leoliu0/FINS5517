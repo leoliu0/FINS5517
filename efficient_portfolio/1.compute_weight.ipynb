{
 "cells": [
  {
   "cell_type": "code",
   "execution_count": 1,
   "id": "83e0b1c6-8a31-4ecf-b8b6-8f60b44d96ff",
   "metadata": {},
   "outputs": [],
   "source": [
    "import numpy as np\n",
    "import pandas as pd"
   ]
  },
  {
   "cell_type": "code",
   "execution_count": 2,
   "id": "a9c2e666-930c-41c2-8854-7a3198c7a049",
   "metadata": {},
   "outputs": [],
   "source": [
    "df = pd.read_csv('stocks.csv')[['ticker','date','ret']]"
   ]
  },
  {
   "cell_type": "code",
   "execution_count": 3,
   "id": "348e5a57-b0fa-41cb-a057-072b04908298",
   "metadata": {},
   "outputs": [],
   "source": [
    "df.date = df.date//100"
   ]
  },
  {
   "cell_type": "code",
   "execution_count": 4,
   "id": "e1e51086-0764-43e5-8f63-0f527e501fe9",
   "metadata": {},
   "outputs": [],
   "source": [
    "df = df[df.date>201000]"
   ]
  },
  {
   "cell_type": "code",
   "execution_count": 5,
   "id": "f82c5c0c-6803-4513-8001-27955e84c33e",
   "metadata": {},
   "outputs": [],
   "source": [
    "df['ret'] = df['ret']*100"
   ]
  },
  {
   "cell_type": "code",
   "execution_count": 6,
   "id": "df1ab838-2767-444a-a27e-8257612f7c16",
   "metadata": {},
   "outputs": [],
   "source": [
    "n = 28"
   ]
  },
  {
   "cell_type": "code",
   "execution_count": 7,
   "id": "bcc382d1-20db-4446-adf5-2dd495a693f8",
   "metadata": {},
   "outputs": [],
   "source": [
    "sample = []\n",
    "for stock in set(df.ticker):\n",
    "        x = df[df.ticker==stock].set_index('date').dropna()\n",
    "        if len(x)>120:\n",
    "            sample.append(x[['ret']].rename({'ret':stock},axis=1))"
   ]
  },
  {
   "cell_type": "code",
   "execution_count": 8,
   "id": "d7b361ed-cde4-43ae-bfb2-d4057fd503ff",
   "metadata": {},
   "outputs": [],
   "source": [
    "df = pd.concat(sample,axis=1)"
   ]
  },
  {
   "cell_type": "code",
   "execution_count": 9,
   "id": "a63cc301-9a44-41b1-8d47-a08d4b251be2",
   "metadata": {},
   "outputs": [],
   "source": [
    "w = [1/n]*n"
   ]
  },
  {
   "cell_type": "markdown",
   "id": "3353c0fe-1c6c-474b-8989-46721fa1ee0a",
   "metadata": {},
   "source": [
    "$ w^t \\times V \\times w \\$"
   ]
  },
  {
   "cell_type": "code",
   "execution_count": 10,
   "id": "b07fcf8f-a9b1-4b16-8a5d-834bf0527417",
   "metadata": {},
   "outputs": [],
   "source": [
    "# portfolio variance\n",
    "std = np.sqrt(df.cov().mul(w,axis=0).mul(w,axis=1).sum().sum())\n",
    "\n",
    "eret = df.mul(w,axis=1).sum(axis=1).mean()*12"
   ]
  },
  {
   "cell_type": "code",
   "execution_count": 11,
   "id": "75f93c2c-b4fc-4265-bf69-370fb6a3373b",
   "metadata": {},
   "outputs": [
    {
     "data": {
      "text/plain": [
       "18.919869028908455"
      ]
     },
     "execution_count": 11,
     "metadata": {},
     "output_type": "execute_result"
    }
   ],
   "source": [
    "np.random.normal(20)"
   ]
  },
  {
   "cell_type": "code",
   "execution_count": 12,
   "id": "83eb5c35-ad76-4f8d-9b97-99eb46cc399f",
   "metadata": {},
   "outputs": [],
   "source": [
    "w = np.random.rand(n)\n",
    "\n",
    "w = w / w.sum()"
   ]
  },
  {
   "cell_type": "code",
   "execution_count": 13,
   "id": "4f75d605-3432-462f-9253-77ce4f6cb2c1",
   "metadata": {},
   "outputs": [],
   "source": [
    "def ret_var(w):\n",
    "    std = np.sqrt(df.cov().mul(w,axis=0).mul(w,axis=1).sum().sum())\n",
    "    eret = df.mul(w,axis=1).sum(axis=1).mean()*12\n",
    "    return eret,std,w"
   ]
  },
  {
   "cell_type": "code",
   "execution_count": 14,
   "id": "10b52ac4-23ba-45b4-a5ab-4b939c41c267",
   "metadata": {},
   "outputs": [],
   "source": [
    "list_of_retvar = []\n",
    "for _ in range(5000):\n",
    "    w = np.random.rand(n) - np.random.rand(n)\n",
    "    w = w / w.sum()\n",
    "    if w.max()<3 and w.min()>=-1:\n",
    "        list_of_retvar.append(ret_var(w))    "
   ]
  },
  {
   "cell_type": "code",
   "execution_count": 15,
   "id": "2109bf8b-14e2-4973-b3d2-1b80da09df58",
   "metadata": {},
   "outputs": [
    {
     "name": "stderr",
     "output_type": "stream",
     "text": [
      "*c* argument looks like a single numeric RGB or RGBA sequence, which should be avoided as value-mapping will have precedence in case its length matches with *x* & *y*.  Please use the *color* keyword-argument or provide a 2D array with a single row if you intend to specify the same RGB or RGBA value for all points.\n"
     ]
    },
    {
     "data": {
      "text/plain": [
       "<AxesSubplot:xlabel='std', ylabel='ret'>"
      ]
     },
     "execution_count": 15,
     "metadata": {},
     "output_type": "execute_result"
    },
    {
     "data": {
      "image/png": "[encoded data removed]",
      "text/plain": [
       "<Figure size 432x288 with 1 Axes>"
      ]
     },
     "metadata": {},
     "output_type": "display_data"
    }
   ],
   "source": [
    "ports = pd.DataFrame(list_of_retvar,columns=['ret','std','w'])\n",
    "ports.plot(x='std',y='ret',kind='scatter')#.plot(x='std',y='ret',kind='scatter',xticks=range(10),yticks=range(25))"
   ]
  },
  {
   "cell_type": "code",
   "execution_count": 16,
   "id": "f3c80fb2-e261-4d26-8f59-3fe2954cc8dc",
   "metadata": {},
   "outputs": [
    {
     "data": {
      "text/html": [
       "<div>\n",
       "<style scoped>\n",
       "    .dataframe tbody tr th:only-of-type {\n",
       "        vertical-align: middle;\n",
       "    }\n",
       "\n",
       "    .dataframe tbody tr th {\n",
       "        vertical-align: top;\n",
       "    }\n",
       "\n",
       "    .dataframe thead th {\n",
       "        text-align: right;\n",
       "    }\n",
       "</style>\n",
       "<table border=\"1\" class=\"dataframe\">\n",
       "  <thead>\n",
       "    <tr style=\"text-align: right;\">\n",
       "      <th></th>\n",
       "      <th>ret</th>\n",
       "      <th>std</th>\n",
       "      <th>w</th>\n",
       "      <th>sharpe</th>\n",
       "    </tr>\n",
       "  </thead>\n",
       "  <tbody>\n",
       "    <tr>\n",
       "      <th>2566</th>\n",
       "      <td>-34.44</td>\n",
       "      <td>15.27</td>\n",
       "      <td>[0.011247971670772952, -0.6073759628618244, -0.5551665301517641, 0.7698260381144002, -0.63296721...</td>\n",
       "      <td>-2.36</td>\n",
       "    </tr>\n",
       "    <tr>\n",
       "      <th>1595</th>\n",
       "      <td>-25.39</td>\n",
       "      <td>11.72</td>\n",
       "      <td>[0.2071295660211672, 0.1632420081509025, -0.3344940668342533, -0.2385095883586903, -0.0554661804...</td>\n",
       "      <td>-2.30</td>\n",
       "    </tr>\n",
       "    <tr>\n",
       "      <th>2617</th>\n",
       "      <td>-19.32</td>\n",
       "      <td>10.29</td>\n",
       "      <td>[0.6923398740261425, 0.034948011919841857, -0.2757081427548968, 0.5517685220882893, -0.680924048...</td>\n",
       "      <td>-2.03</td>\n",
       "    </tr>\n",
       "    <tr>\n",
       "      <th>315</th>\n",
       "      <td>-21.69</td>\n",
       "      <td>11.57</td>\n",
       "      <td>[0.5691561784556542, -0.3901027428881766, 0.16517268959447184, 0.009185232852365496, -0.11798507...</td>\n",
       "      <td>-2.01</td>\n",
       "    </tr>\n",
       "    <tr>\n",
       "      <th>3500</th>\n",
       "      <td>-10.83</td>\n",
       "      <td>6.47</td>\n",
       "      <td>[0.3304479791512782, -0.0262999160309901, -0.4448275782624442, 0.6234421486396711, -0.0115705984...</td>\n",
       "      <td>-1.92</td>\n",
       "    </tr>\n",
       "    <tr>\n",
       "      <th>...</th>\n",
       "      <td>...</td>\n",
       "      <td>...</td>\n",
       "      <td>...</td>\n",
       "      <td>...</td>\n",
       "    </tr>\n",
       "    <tr>\n",
       "      <th>673</th>\n",
       "      <td>35.00</td>\n",
       "      <td>6.00</td>\n",
       "      <td>[0.13101183635015878, -0.002828418166692476, -0.17325323381071, 0.08033075089241117, -0.10558191...</td>\n",
       "      <td>5.56</td>\n",
       "    </tr>\n",
       "    <tr>\n",
       "      <th>1377</th>\n",
       "      <td>29.79</td>\n",
       "      <td>5.06</td>\n",
       "      <td>[-0.15139645844792904, 0.1989256160198248, 0.06890627237276647, 0.16477931331329415, -0.01807649...</td>\n",
       "      <td>5.57</td>\n",
       "    </tr>\n",
       "    <tr>\n",
       "      <th>1704</th>\n",
       "      <td>25.18</td>\n",
       "      <td>4.09</td>\n",
       "      <td>[0.002993389247633742, -0.06808180794329731, 0.09294312052842206, -0.16300790639896473, 0.133622...</td>\n",
       "      <td>5.76</td>\n",
       "    </tr>\n",
       "    <tr>\n",
       "      <th>1650</th>\n",
       "      <td>20.64</td>\n",
       "      <td>3.28</td>\n",
       "      <td>[-0.012547735149596378, 0.1536795934137825, 0.1518196104122205, -0.026384145748230288, 0.0046408...</td>\n",
       "      <td>5.81</td>\n",
       "    </tr>\n",
       "    <tr>\n",
       "      <th>2543</th>\n",
       "      <td>31.23</td>\n",
       "      <td>5.08</td>\n",
       "      <td>[-0.24603019439794965, 0.1520849821128471, 0.1016298935597082, -0.09048580930032747, 0.035095910...</td>\n",
       "      <td>5.83</td>\n",
       "    </tr>\n",
       "  </tbody>\n",
       "</table>\n",
       "<p>3674 rows × 4 columns</p>\n",
       "</div>"
      ],
      "text/plain": [
       "        ret   std  \\\n",
       "2566 -34.44 15.27   \n",
       "1595 -25.39 11.72   \n",
       "2617 -19.32 10.29   \n",
       "315  -21.69 11.57   \n",
       "3500 -10.83  6.47   \n",
       "...     ...   ...   \n",
       "673   35.00  6.00   \n",
       "1377  29.79  5.06   \n",
       "1704  25.18  4.09   \n",
       "1650  20.64  3.28   \n",
       "2543  31.23  5.08   \n",
       "\n",
       "                                                                                                        w  \\\n",
       "2566  [0.011247971670772952, -0.6073759628618244, -0.5551665301517641, 0.7698260381144002, -0.63296721...   \n",
       "1595  [0.2071295660211672, 0.1632420081509025, -0.3344940668342533, -0.2385095883586903, -0.0554661804...   \n",
       "2617  [0.6923398740261425, 0.034948011919841857, -0.2757081427548968, 0.5517685220882893, -0.680924048...   \n",
       "315   [0.5691561784556542, -0.3901027428881766, 0.16517268959447184, 0.009185232852365496, -0.11798507...   \n",
       "3500  [0.3304479791512782, -0.0262999160309901, -0.4448275782624442, 0.6234421486396711, -0.0115705984...   \n",
       "...                                                                                                   ...   \n",
       "673   [0.13101183635015878, -0.002828418166692476, -0.17325323381071, 0.08033075089241117, -0.10558191...   \n",
       "1377  [-0.15139645844792904, 0.1989256160198248, 0.06890627237276647, 0.16477931331329415, -0.01807649...   \n",
       "1704  [0.002993389247633742, -0.06808180794329731, 0.09294312052842206, -0.16300790639896473, 0.133622...   \n",
       "1650  [-0.012547735149596378, 0.1536795934137825, 0.1518196104122205, -0.026384145748230288, 0.0046408...   \n",
       "2543  [-0.24603019439794965, 0.1520849821128471, 0.1016298935597082, -0.09048580930032747, 0.035095910...   \n",
       "\n",
       "      sharpe  \n",
       "2566   -2.36  \n",
       "1595   -2.30  \n",
       "2617   -2.03  \n",
       "315    -2.01  \n",
       "3500   -1.92  \n",
       "...      ...  \n",
       "673     5.56  \n",
       "1377    5.57  \n",
       "1704    5.76  \n",
       "1650    5.81  \n",
       "2543    5.83  \n",
       "\n",
       "[3674 rows x 4 columns]"
      ]
     },
     "execution_count": 16,
     "metadata": {},
     "output_type": "execute_result"
    }
   ],
   "source": [
    "ports['sharpe'] = (ports['ret'] - 1.6)/ports['std']\n",
    "\n",
    "ports.sort_values('sharpe')"
   ]
  },
  {
   "cell_type": "code",
   "execution_count": 17,
   "id": "745e40ba-206f-4b23-8721-159dced07cff",
   "metadata": {},
   "outputs": [],
   "source": [
    "from concurrent.futures import ProcessPoolExecutor"
   ]
  },
  {
   "cell_type": "code",
   "execution_count": 20,
   "id": "26fd9d27-974e-454d-bbcf-e84d8e5e24e4",
   "metadata": {},
   "outputs": [],
   "source": [
    "def compute(_):\n",
    "    r = np.random.RandomState()\n",
    "    w = r.rand(n) - r.rand(n)\n",
    "    w = w / w.sum()\n",
    "    if w.max()<3 and w.min()>=-1:\n",
    "        return ret_var(w)"
   ]
  },
  {
   "cell_type": "code",
   "execution_count": 23,
   "id": "af76db70-ec80-4840-9583-ab1486a071eb",
   "metadata": {},
   "outputs": [],
   "source": [
    "with ProcessPoolExecutor() as p:\n",
    "    ports = pd.DataFrame(p.map(compute,range(1000000)),columns=['ret','std','w'])"
   ]
  },
  {
   "cell_type": "code",
   "execution_count": 24,
   "id": "51cc9ed0-7938-49cc-ba4c-ae4d77138ccc",
   "metadata": {},
   "outputs": [
    {
     "data": {
      "text/html": [
       "<div>\n",
       "<style scoped>\n",
       "    .dataframe tbody tr th:only-of-type {\n",
       "        vertical-align: middle;\n",
       "    }\n",
       "\n",
       "    .dataframe tbody tr th {\n",
       "        vertical-align: top;\n",
       "    }\n",
       "\n",
       "    .dataframe thead th {\n",
       "        text-align: right;\n",
       "    }\n",
       "</style>\n",
       "<table border=\"1\" class=\"dataframe\">\n",
       "  <thead>\n",
       "    <tr style=\"text-align: right;\">\n",
       "      <th></th>\n",
       "      <th>ret</th>\n",
       "      <th>std</th>\n",
       "      <th>w</th>\n",
       "      <th>sharpe</th>\n",
       "    </tr>\n",
       "  </thead>\n",
       "  <tbody>\n",
       "    <tr>\n",
       "      <th>26191</th>\n",
       "      <td>-65.20</td>\n",
       "      <td>19.85</td>\n",
       "      <td>[1.1288138797292384, -0.6301603622115587, 0.7981496402956644, 0.6153772140446336, 0.435106222427...</td>\n",
       "      <td>-3.36</td>\n",
       "    </tr>\n",
       "    <tr>\n",
       "      <th>609011</th>\n",
       "      <td>-49.75</td>\n",
       "      <td>15.41</td>\n",
       "      <td>[0.6488755948928755, 0.10141787558182772, -0.48517570672124744, -0.17246078361397904, -0.7913718...</td>\n",
       "      <td>-3.33</td>\n",
       "    </tr>\n",
       "    <tr>\n",
       "      <th>199380</th>\n",
       "      <td>-56.85</td>\n",
       "      <td>18.87</td>\n",
       "      <td>[-0.7833988824722561, -0.9807080418359103, -0.9189181125579021, 0.3981561068759129, -0.273240876...</td>\n",
       "      <td>-3.10</td>\n",
       "    </tr>\n",
       "    <tr>\n",
       "      <th>930696</th>\n",
       "      <td>-52.01</td>\n",
       "      <td>17.35</td>\n",
       "      <td>[-0.10913491765241372, -0.89574601272051, -0.17112280532133792, 1.3905825022613647, -0.494675348...</td>\n",
       "      <td>-3.09</td>\n",
       "    </tr>\n",
       "    <tr>\n",
       "      <th>965913</th>\n",
       "      <td>-46.47</td>\n",
       "      <td>15.56</td>\n",
       "      <td>[0.7299189243251537, -0.032002332828651094, 0.010726374582364192, 0.4406171330742931, 0.29516029...</td>\n",
       "      <td>-3.09</td>\n",
       "    </tr>\n",
       "    <tr>\n",
       "      <th>...</th>\n",
       "      <td>...</td>\n",
       "      <td>...</td>\n",
       "      <td>...</td>\n",
       "      <td>...</td>\n",
       "    </tr>\n",
       "    <tr>\n",
       "      <th>491335</th>\n",
       "      <td>30.68</td>\n",
       "      <td>4.55</td>\n",
       "      <td>[-0.2102518461151357, 0.04311025755114437, -0.09179895818985549, -0.22020809319020307, 0.0969500...</td>\n",
       "      <td>6.39</td>\n",
       "    </tr>\n",
       "    <tr>\n",
       "      <th>184804</th>\n",
       "      <td>35.28</td>\n",
       "      <td>5.27</td>\n",
       "      <td>[-0.28329988524509236, 0.21388534776563886, 0.25196453250520057, -0.33175797424532744, 0.2638625...</td>\n",
       "      <td>6.40</td>\n",
       "    </tr>\n",
       "    <tr>\n",
       "      <th>477599</th>\n",
       "      <td>34.91</td>\n",
       "      <td>5.21</td>\n",
       "      <td>[-0.3006946636820731, 0.026203042119398123, 0.0733337964412519, 0.05172940714995064, -0.09837517...</td>\n",
       "      <td>6.40</td>\n",
       "    </tr>\n",
       "    <tr>\n",
       "      <th>452448</th>\n",
       "      <td>28.08</td>\n",
       "      <td>4.09</td>\n",
       "      <td>[-0.10201619494208723, 0.09423837987685829, -0.11231319730338318, -0.1463157155472711, 0.1791468...</td>\n",
       "      <td>6.47</td>\n",
       "    </tr>\n",
       "    <tr>\n",
       "      <th>114463</th>\n",
       "      <td>34.43</td>\n",
       "      <td>5.03</td>\n",
       "      <td>[0.09790639053603419, 0.13451335057842395, 0.021828415217215645, -0.4350481546749538, 0.10126829...</td>\n",
       "      <td>6.53</td>\n",
       "    </tr>\n",
       "  </tbody>\n",
       "</table>\n",
       "<p>727990 rows × 4 columns</p>\n",
       "</div>"
      ],
      "text/plain": [
       "          ret   std  \\\n",
       "26191  -65.20 19.85   \n",
       "609011 -49.75 15.41   \n",
       "199380 -56.85 18.87   \n",
       "930696 -52.01 17.35   \n",
       "965913 -46.47 15.56   \n",
       "...       ...   ...   \n",
       "491335  30.68  4.55   \n",
       "184804  35.28  5.27   \n",
       "477599  34.91  5.21   \n",
       "452448  28.08  4.09   \n",
       "114463  34.43  5.03   \n",
       "\n",
       "                                                                                                          w  \\\n",
       "26191   [1.1288138797292384, -0.6301603622115587, 0.7981496402956644, 0.6153772140446336, 0.435106222427...   \n",
       "609011  [0.6488755948928755, 0.10141787558182772, -0.48517570672124744, -0.17246078361397904, -0.7913718...   \n",
       "199380  [-0.7833988824722561, -0.9807080418359103, -0.9189181125579021, 0.3981561068759129, -0.273240876...   \n",
       "930696  [-0.10913491765241372, -0.89574601272051, -0.17112280532133792, 1.3905825022613647, -0.494675348...   \n",
       "965913  [0.7299189243251537, -0.032002332828651094, 0.010726374582364192, 0.4406171330742931, 0.29516029...   \n",
       "...                                                                                                     ...   \n",
       "491335  [-0.2102518461151357, 0.04311025755114437, -0.09179895818985549, -0.22020809319020307, 0.0969500...   \n",
       "184804  [-0.28329988524509236, 0.21388534776563886, 0.25196453250520057, -0.33175797424532744, 0.2638625...   \n",
       "477599  [-0.3006946636820731, 0.026203042119398123, 0.0733337964412519, 0.05172940714995064, -0.09837517...   \n",
       "452448  [-0.10201619494208723, 0.09423837987685829, -0.11231319730338318, -0.1463157155472711, 0.1791468...   \n",
       "114463  [0.09790639053603419, 0.13451335057842395, 0.021828415217215645, -0.4350481546749538, 0.10126829...   \n",
       "\n",
       "        sharpe  \n",
       "26191    -3.36  \n",
       "609011   -3.33  \n",
       "199380   -3.10  \n",
       "930696   -3.09  \n",
       "965913   -3.09  \n",
       "...        ...  \n",
       "491335    6.39  \n",
       "184804    6.40  \n",
       "477599    6.40  \n",
       "452448    6.47  \n",
       "114463    6.53  \n",
       "\n",
       "[727990 rows x 4 columns]"
      ]
     },
     "execution_count": 24,
     "metadata": {},
     "output_type": "execute_result"
    }
   ],
   "source": [
    "ports['sharpe'] = (ports['ret'] - 1.6)/ports['std']\n",
    "ports.dropna().sort_values('sharpe')"
   ]
  }
 ],
 "metadata": {
  "kernelspec": {
   "display_name": "Python 3 (ipykernel)",
   "language": "python",
   "name": "python3"
  },
  "language_info": {
   "codemirror_mode": {
    "name": "ipython",
    "version": 3
   },
   "file_extension": ".py",
   "mimetype": "text/x-python",
   "name": "python",
   "nbconvert_exporter": "python",
   "pygments_lexer": "ipython3",
   "version": "3.8.12"
  }
 },
 "nbformat": 4,
 "nbformat_minor": 5
}
