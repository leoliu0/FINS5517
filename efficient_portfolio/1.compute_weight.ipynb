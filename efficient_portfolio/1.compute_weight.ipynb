{
 "cells": [
  {
   "cell_type": "code",
   "execution_count": 1,
   "id": "83e0b1c6-8a31-4ecf-b8b6-8f60b44d96ff",
   "metadata": {},
   "outputs": [],
   "source": [
    "import numpy as np\n",
    "import pandas as pd"
   ]
  },
  {
   "cell_type": "code",
   "execution_count": 2,
   "id": "a9c2e666-930c-41c2-8854-7a3198c7a049",
   "metadata": {},
   "outputs": [],
   "source": [
    "df = pd.read_csv('stocks.csv')[['ticker','date','ret']]"
   ]
  },
  {
   "cell_type": "code",
   "execution_count": 3,
   "id": "348e5a57-b0fa-41cb-a057-072b04908298",
   "metadata": {},
   "outputs": [],
   "source": [
    "df.date = df.date//100"
   ]
  },
  {
   "cell_type": "code",
   "execution_count": 4,
   "id": "e1e51086-0764-43e5-8f63-0f527e501fe9",
   "metadata": {},
   "outputs": [],
   "source": [
    "df = df[df.date>201000]"
   ]
  },
  {
   "cell_type": "code",
   "execution_count": 5,
   "id": "f82c5c0c-6803-4513-8001-27955e84c33e",
   "metadata": {},
   "outputs": [],
   "source": [
    "df['ret'] = df['ret']*100"
   ]
  },
  {
   "cell_type": "code",
   "execution_count": 6,
   "id": "df1ab838-2767-444a-a27e-8257612f7c16",
   "metadata": {},
   "outputs": [],
   "source": [
    "n = 28"
   ]
  },
  {
   "cell_type": "code",
   "execution_count": 7,
   "id": "bcc382d1-20db-4446-adf5-2dd495a693f8",
   "metadata": {},
   "outputs": [],
   "source": [
    "sample = []\n",
    "for stock in set(df.ticker):\n",
    "        x = df[df.ticker==stock].set_index('date').dropna()\n",
    "        if len(x)>120:\n",
    "            sample.append(x[['ret']].rename({'ret':stock},axis=1))"
   ]
  },
  {
   "cell_type": "code",
   "execution_count": 8,
   "id": "d7b361ed-cde4-43ae-bfb2-d4057fd503ff",
   "metadata": {},
   "outputs": [],
   "source": [
    "df = pd.concat(sample,axis=1)"
   ]
  },
  {
   "cell_type": "code",
   "execution_count": 9,
   "id": "a63cc301-9a44-41b1-8d47-a08d4b251be2",
   "metadata": {},
   "outputs": [],
   "source": [
    "w = [1/n]*n"
   ]
  },
  {
   "cell_type": "markdown",
   "id": "3353c0fe-1c6c-474b-8989-46721fa1ee0a",
   "metadata": {},
   "source": [
    "$ w^t \\times V \\times w \\$"
   ]
  },
  {
   "cell_type": "code",
   "execution_count": 10,
   "id": "b07fcf8f-a9b1-4b16-8a5d-834bf0527417",
   "metadata": {},
   "outputs": [],
   "source": [
    "# portfolio variance\n",
    "std = np.sqrt(df.cov().mul(w,axis=0).mul(w,axis=1).sum().sum())\n",
    "\n",
    "eret = df.mul(w,axis=1).sum(axis=1).mean()*12"
   ]
  },
  {
   "cell_type": "code",
   "execution_count": 11,
   "id": "75f93c2c-b4fc-4265-bf69-370fb6a3373b",
   "metadata": {},
   "outputs": [
    {
     "data": {
      "text/plain": [
       "18.796539350979756"
      ]
     },
     "execution_count": 11,
     "metadata": {},
     "output_type": "execute_result"
    }
   ],
   "source": [
    "np.random.normal(20)"
   ]
  },
  {
   "cell_type": "code",
   "execution_count": 12,
   "id": "83eb5c35-ad76-4f8d-9b97-99eb46cc399f",
   "metadata": {},
   "outputs": [],
   "source": [
    "w = np.random.rand(n)\n",
    "\n",
    "w = w / w.sum()"
   ]
  },
  {
   "cell_type": "code",
   "execution_count": 16,
   "id": "4f75d605-3432-462f-9253-77ce4f6cb2c1",
   "metadata": {},
   "outputs": [],
   "source": [
    "def ret_var(w):\n",
    "    # below code is to use variance-covariance matrix\n",
    "    # std = np.sqrt(df.cov().mul(w,axis=0).mul(w,axis=1).sum().sum())*np.sqrt(12)\n",
    "    \n",
    "    # below code is to use std of monthly portfolio return\n",
    "    std2 = df.mul(w,axis=1).sum(axis=1).std()*np.sqrt(12)\n",
    "    eret = df.mul(w,axis=1).sum(axis=1).mean()*12\n",
    "    return eret,std,w"
   ]
  },
  {
   "cell_type": "code",
   "execution_count": null,
   "id": "10b52ac4-23ba-45b4-a5ab-4b939c41c267",
   "metadata": {},
   "outputs": [],
   "source": [
    "list_of_retvar = []\n",
    "for _ in range(5000):\n",
    "    w = np.random.rand(n) - np.random.rand(n)\n",
    "    w = w / w.sum()\n",
    "    if w.max()<3 and w.min()>=-1:\n",
    "        list_of_retvar.append(ret_var(w))    "
   ]
  },
  {
   "cell_type": "code",
   "execution_count": null,
   "id": "2109bf8b-14e2-4973-b3d2-1b80da09df58",
   "metadata": {},
   "outputs": [],
   "source": [
    "ports = pd.DataFrame(list_of_retvar,columns=['ret','std','w'])\n",
    "ports.plot(x='std',y='ret',kind='scatter')#.plot(x='std',y='ret',kind='scatter',xticks=range(10),yticks=range(25))"
   ]
  },
  {
   "cell_type": "code",
   "execution_count": null,
   "id": "f3c80fb2-e261-4d26-8f59-3fe2954cc8dc",
   "metadata": {},
   "outputs": [],
   "source": [
    "ports['sharpe'] = (ports['ret'] - 1.6)/ports['std']\n",
    "\n",
    "ports.sort_values('sharpe')"
   ]
  },
  {
   "cell_type": "code",
   "execution_count": null,
   "id": "745e40ba-206f-4b23-8721-159dced07cff",
   "metadata": {},
   "outputs": [],
   "source": [
    "from concurrent.futures import ProcessPoolExecutor"
   ]
  },
  {
   "cell_type": "code",
   "execution_count": null,
   "id": "26fd9d27-974e-454d-bbcf-e84d8e5e24e4",
   "metadata": {},
   "outputs": [],
   "source": [
    "def compute(_):\n",
    "    r = np.random.RandomState()\n",
    "    w = r.rand(n) - r.rand(n)\n",
    "    w = w / w.sum()\n",
    "    if w.max()<3 and w.min()>=-1:\n",
    "        return ret_var(w)"
   ]
  },
  {
   "cell_type": "code",
   "execution_count": null,
   "id": "af76db70-ec80-4840-9583-ab1486a071eb",
   "metadata": {},
   "outputs": [],
   "source": [
    "with ProcessPoolExecutor() as p:\n",
    "    ports = pd.DataFrame(p.map(compute,range(1000000)),columns=['ret','std','w'])"
   ]
  },
  {
   "cell_type": "code",
   "execution_count": null,
   "id": "51cc9ed0-7938-49cc-ba4c-ae4d77138ccc",
   "metadata": {},
   "outputs": [],
   "source": [
    "ports['sharpe'] = (ports['ret'] - 1.6)/ports['std']\n",
    "ports.dropna().sort_values('sharpe')"
   ]
  }
 ],
 "metadata": {
  "kernelspec": {
   "display_name": "Python 3 (ipykernel)",
   "language": "python",
   "name": "python3"
  },
  "language_info": {
   "codemirror_mode": {
    "name": "ipython",
    "version": 3
   },
   "file_extension": ".py",
   "mimetype": "text/x-python",
   "name": "python",
   "nbconvert_exporter": "python",
   "pygments_lexer": "ipython3",
   "version": "3.9.7"
  }
 },
 "nbformat": 4,
 "nbformat_minor": 5
}
