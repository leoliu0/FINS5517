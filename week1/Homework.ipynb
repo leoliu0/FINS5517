{
 "cells": [
  {
   "cell_type": "markdown",
   "metadata": {},
   "source": [
    "### Homework"
   ]
  },
  {
   "cell_type": "markdown",
   "metadata": {},
   "source": [
    "#### Write a algorithm to sort the data from lowest to highest\n"
   ]
  },
  {
   "cell_type": "code",
   "execution_count": 1,
   "metadata": {},
   "outputs": [],
   "source": [
    "a = [1,5,3,5,7,98,6,45,4,3,5,6,7,443,213]"
   ]
  },
  {
   "cell_type": "code",
   "execution_count": 6,
   "metadata": {},
   "outputs": [
    {
     "data": {
      "text/plain": [
       "[1, 3, 3, 4, 5, 5, 5, 6, 6, 7, 7, 45, 98, 213, 443]"
      ]
     },
     "execution_count": 6,
     "metadata": {},
     "output_type": "execute_result"
    }
   ],
   "source": [
    "# I will provide a naive solution here, but you can be creative..!\n",
    "# If you cannot figure out a new method, just try to improve on my code...! \n",
    "# You get one mark as long as you have tried...!\n",
    "# Don't use python built-in implementation, otherwise will be boring\n",
    "sorted(a)"
   ]
  },
  {
   "cell_type": "code",
   "execution_count": 3,
   "metadata": {},
   "outputs": [],
   "source": [
    "def is_sorted(l):\n",
    "    ''' This function checks whether the given list is already sorted '''\n",
    "    prev = None # set the previous element to None before enter the for loop\n",
    "    for element in l:\n",
    "        if prev:\n",
    "            if element<prev:\n",
    "                return # return None if list not sorted completely, to continue sorting\n",
    "            prev = element # store the element to prev    \n",
    "        else:\n",
    "            prev = element # store the element to prev    \n",
    "    return True"
   ]
  },
  {
   "cell_type": "code",
   "execution_count": 4,
   "metadata": {},
   "outputs": [],
   "source": [
    "def sort(l): # this perform pairwise sort, loop until the list is fully sorted\n",
    "    while not is_sorted(l):# keep sorting until fully sorted\n",
    "        prev = None # set the previous element to None before enter the for loop\n",
    "        b = []\n",
    "        for element in l:\n",
    "            if prev:\n",
    "                if element < prev:\n",
    "                    b[-1] = element\n",
    "                    b.append(prev)\n",
    "                    # prev = prev # Normally need to re-assign, but this step here is redundant.\n",
    "                else:\n",
    "                    b.append(element)\n",
    "                    prev = element\n",
    "            else:\n",
    "                b.append(element)\n",
    "                prev = element\n",
    "        l = b # assign the sorted back to the list for next round of sorting\n",
    "    return l"
   ]
  },
  {
   "cell_type": "code",
   "execution_count": 5,
   "metadata": {},
   "outputs": [
    {
     "data": {
      "text/plain": [
       "[1, 3, 3, 4, 5, 5, 5, 6, 6, 7, 7, 45, 98, 213, 443]"
      ]
     },
     "execution_count": 5,
     "metadata": {},
     "output_type": "execute_result"
    }
   ],
   "source": [
    "sort(a)"
   ]
  }
 ],
 "metadata": {
  "kernelspec": {
   "display_name": "Python 3",
   "language": "python",
   "name": "python3"
  },
  "language_info": {
   "codemirror_mode": {
    "name": "ipython",
    "version": 3
   },
   "file_extension": ".py",
   "mimetype": "text/x-python",
   "name": "python",
   "nbconvert_exporter": "python",
   "pygments_lexer": "ipython3",
   "version": "3.7.7"
  }
 },
 "nbformat": 4,
 "nbformat_minor": 4
}
