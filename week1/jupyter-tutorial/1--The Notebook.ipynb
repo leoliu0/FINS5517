{
 "cells": [
  {
   "cell_type": "markdown",
   "metadata": {},
   "source": [
    "# The Notebook\n",
    "\n",
    "This is a _notebook_: a document that can contain rich text elements—headings, paragraph text, hyperlinks, mathematical symbols and embedded figures—and interactive code elements. The document uses \"cells\" to divide up the text and code elements: text is formatted using markdown, and code can be executed using the IPython kernel.\n",
    "\n",
    "[Markdown](https://en.wikipedia.org/wiki/Markdown) is an easy way to format text to be displayed on a browser. You can format headings, bold face, italics, add a horizonal line, hyperlink some text, add bulleted or numbered lists. It's so easy, you can learn it in minutes! The \"Daring Fireball\" (by John Gruber) [markdown syntax](https://daringfireball.net/projects/markdown/syntax) page is a nice starting point or reference."
   ]
  },
  {
   "cell_type": "markdown",
   "metadata": {},
   "source": [
    "## Nbviewer\n",
    "\n",
    "If you came to view this notebook following the link on the tutorial description, [\"The world of Jupyter\"](https://github.com/barbagroup/jupyter-tutorial/blob/master/World-of-Jupyter.md) (itself, a markdown file), then you are seeing it rendered as a static webpage on the free [**nbviewer**](http://nbviewer.jupyter.org) service. It is the simplest way to share a notebook with anyone: just host the notebook file (`.ipynb` extension) online and enter the public URL to the file on the **nbviewer** _Go!_ box. The notebook will be rendered like a static webpage: visitors can read everything, but they cannot interact with the code. \n",
    "\n",
    "To interact with a notebook, you need the Jupyter Notebook App, either locally installed on your computer or on some cloud service."
   ]
  },
  {
   "cell_type": "markdown",
   "metadata": {},
   "source": [
    "## Jupyter Notebook App\n",
    "\n",
    "If you want to see what the Jupyter Notebook App looks like, you can try it right now on this free service: [https://try.jupyter.org](https://try.jupyter.org). You should see the _Dashboard_, which shows a list of available files, like this:\n",
    "\n",
    "![dashboard](http://jupyter.readthedocs.io/en/latest/_images/tryjupyter_file.png)\n",
    "\n",
    "Click on the _New_ button on the top right, and choose \"Python 3\" from the pull-down options to get a notebook that is connected to the IPython kernel. You should get an empty notebook with a single empty code cell labeled `In[ ]`, with a flashing cursor inside. This is a code cell. You can start by trying any simple mathematical operation (like a calculator), and type `[shift] + [enter]` to execute it.\n",
    "\n",
    "You can try any of the arithmetic operators in Python:\n",
    "```python\n",
    "    +   -   *   /   **   %   //\n",
    "```\n",
    "The last three operators above are _exponent_ (raise to the power of), _modulo_ (divide and return remainder) and _floor division_. Be careful that the division operator behaves differently in legacy Python 2: it rounds to an integer when the operands are integers. We use Python 3 and don't worry about this, because it gives the expected result, e.g., `1/2` gives `0.5` (not zero!).\n",
    "\n",
    "Here's a simple example calculation in a code cell:"
   ]
  },
  {
   "cell_type": "code",
   "execution_count": 1,
   "metadata": {
    "collapsed": false,
    "jupyter": {
     "outputs_hidden": false
    }
   },
   "outputs": [
    {
     "data": {
      "text/plain": [
       "24"
      ]
     },
     "execution_count": 1,
     "metadata": {},
     "output_type": "execute_result"
    }
   ],
   "source": [
    "2 * 12"
   ]
  },
  {
   "cell_type": "markdown",
   "metadata": {},
   "source": [
    "Typing `[shift] + [enter]` will execute the cell and give you the output in a new line, labeled `Out[1]` (the numbering increases each time you execute a cell). If you're at the end of the notebook, you will also get a new blank cell, where you can try more arithmetic operations, if you want. Or, you can change the type of cell from _Code_ to _Markdown_ with the button on the menu bar. See if you find that now, and then type some text into a markdwon cell. Try some [markdown syntax](https://daringfireball.net/projects/markdown/syntax)!\n",
    "\n",
    "In a code cell, you can enter any valid Python code, and type `[shift] + [enter]` to execute it. For example, the simplest code example just prints the message _Hello World!_, like this:"
   ]
  },
  {
   "cell_type": "code",
   "execution_count": 2,
   "metadata": {
    "collapsed": false,
    "jupyter": {
     "outputs_hidden": false
    }
   },
   "outputs": [
    {
     "name": "stdout",
     "output_type": "stream",
     "text": [
      "Hello World!\n"
     ]
    }
   ],
   "source": [
    "print(\"Hello World!\")"
   ]
  },
  {
   "cell_type": "markdown",
   "metadata": {},
   "source": [
    "You can also define a variable (say `x`) and assign it a value (say, 2), then use that variable in some code:"
   ]
  },
  {
   "cell_type": "code",
   "execution_count": 3,
   "metadata": {
    "collapsed": true,
    "jupyter": {
     "outputs_hidden": true
    }
   },
   "outputs": [],
   "source": [
    "x = 2"
   ]
  },
  {
   "cell_type": "code",
   "execution_count": 4,
   "metadata": {
    "collapsed": false,
    "jupyter": {
     "outputs_hidden": false
    }
   },
   "outputs": [
    {
     "name": "stdout",
     "output_type": "stream",
     "text": [
      "Hello World!Hello World!\n"
     ]
    }
   ],
   "source": [
    "print(x * \"Hello World!\")"
   ]
  },
  {
   "cell_type": "code",
   "execution_count": 5,
   "metadata": {
    "collapsed": false,
    "jupyter": {
     "outputs_hidden": false
    }
   },
   "outputs": [
    {
     "data": {
      "text/plain": [
       "24"
      ]
     },
     "execution_count": 5,
     "metadata": {},
     "output_type": "execute_result"
    }
   ],
   "source": [
    "x * 12"
   ]
  },
  {
   "cell_type": "markdown",
   "metadata": {},
   "source": [
    "## More Jupyter cloud services\n",
    "\n",
    "If you followed the instructions above, you launched the Jupyter Notebook App on a cloud service called **`tmpnb`**. As the prefix `tmp` indicates, it gives you a temporary demo: as soon as you close the browser tab (or after a few minutes of inactivity), the kernel dies and the content you wrote is not saved anywhere. This is a free service, sponsored by the company Rackspace, just for trying something out.\n",
    "\n",
    "You can work on notebooks and save your work using other cloud services. A long-running cloud offering is [SageMathCloud](https://cloud.sagemath.com). And most recently (in June 2016), Microsoft announced [notebooks hosted on Azure](https://notebooks.azure.com) cloud. In both cases, you need to create a free account to be able to save your work."
   ]
  },
  {
   "cell_type": "markdown",
   "metadata": {},
   "source": [
    "## The world of Jupyter, so far\n",
    "\n",
    "You learned about: \n",
    "\n",
    "* the notebook, \n",
    "* code cells and markdown cells, \n",
    "* **nbviewer**, \n",
    "* the Jupyter Notebook App, \n",
    "* `[shift] + [enter]` to execute, \n",
    "* **`tmpnb`**, and\n",
    "* cloud notebook services."
   ]
  },
  {
   "cell_type": "markdown",
   "metadata": {},
   "source": [
    "## Optional next step: local installation\n",
    "\n",
    "Cloud notebook services (especially free ones!) have their limitations. As you start using notebooks more, you'll want to **install Jupyter** on your personal computer. For that, we recommend the free [Anaconda](https://www.continuum.io/downloads) distribution, which includes _all_ the Python packages you may need (more than 700 packages are included!).\n",
    "\n",
    "If you prefer a light installation (e.g., if your internet is slow), we can recommend [Miniconda](http://conda.pydata.org/miniconda.html). This will include only `conda` (the package manager) and its dependencies, and Python. You will have to install Jupyter separately, and also other basic Python libraries for numerical mathematics and data analysis, using the `conda install` command.\n",
    "\n",
    "We also recommend that you start with Python 3 right away—Python 2.7 is the _legacy_ Python, and you should only need to use it if you have a lot of code written in the past that you need to work with.\n"
   ]
  },
  {
   "cell_type": "markdown",
   "metadata": {},
   "source": [
    "# Next\n",
    "\n",
    "* Get started with a foundation on Python for numerical mathematics and data analysis: [The Python world of science and data](http://nbviewer.jupyter.org/github/barbagroup/jupyter-tutorial/blob/master/2--The%20Python%20world%20of%20science%20and%20data.ipynb)"
   ]
  },
  {
   "cell_type": "markdown",
   "metadata": {},
   "source": [
    "---\n",
    "\n",
    "<p style=\"font-size:smaller\">(c) 2016 Lorena A. Barba. Free to use under Creative Commons Attribution <a href=\"https://creativecommons.org/licenses/by/4.0/\"> CC-BY 4.0 License</a>. This notebook was written for the tutorial <a href=\"https://github.com/barbagroup/jupyter-tutorial/blob/master/World-of-Jupyter.md\">\"The world of Jupyter\"</a> at the Huazhong University of Science and Technology (HUST), Wuhan, China.\n",
    "</p>"
   ]
  }
 ],
 "metadata": {
  "kernelspec": {
   "display_name": "Python 3",
   "language": "python",
   "name": "python3"
  },
  "language_info": {
   "codemirror_mode": {
    "name": "ipython",
    "version": 3
   },
   "file_extension": ".py",
   "mimetype": "text/x-python",
   "name": "python",
   "nbconvert_exporter": "python",
   "pygments_lexer": "ipython3",
   "version": "3.7.7"
  }
 },
 "nbformat": 4,
 "nbformat_minor": 4
}
