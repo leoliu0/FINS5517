{
 "cells": [
  {
   "cell_type": "markdown",
   "metadata": {},
   "source": [
    "### Best tutorial?\n",
    "\n",
    "https://docs.python.org/3/tutorial/\n",
    "\n",
    "This really gives you all the details, if you want to get good\n",
    "\n",
    "You can get tutorials on the web, Youtube, paid or unpaid. They are more or less the same. They will have pretty much same content as what I will talk about today\n",
    "\n",
    "\n",
    "### Your best friends\n",
    "1. Google.com. You just need to google it whenever you got a problem\n",
    "1. Python Documentation. If you have problems that cannot be resolved via Google, you need to read documentation CAREFULLY\n",
    "https://docs.python.org/3/\n",
    "\n",
    "1. If you still cannot get what you want, ask questions on https://stackoverflow.com/...!\n",
    "\n",
    "### good stuff I found when I was learning Python\n",
    "1. https://automatetheboringstuff.com/\n",
    "This pointed out some interesting automation techniques with python, not bad...!\n",
    "2. https://www.python.org/community/workshops/\n",
    "This gives a list of conferences for python, many of the talks are absolutely fantastic, especially pycon in the US.\n",
    "https://www.youtube.com/channel/UCrJhliKNQ8g0qoE_zvL8eVg\n",
    "https://www.youtube.com/channel/UCsX05-2sVSH7Nx3zuk3NYuQ\n",
    "https://www.youtube.com/channel/UCxs2IIVXaEHHA4BtTiWZ2mQ/videos\n",
    "https://us.pycon.org/2020/online/"
   ]
  }
 ],
 "metadata": {
  "kernelspec": {
   "display_name": "Python 3",
   "language": "python",
   "name": "python3"
  },
  "language_info": {
   "codemirror_mode": {
    "name": "ipython",
    "version": 3
   },
   "file_extension": ".py",
   "mimetype": "text/x-python",
   "name": "python",
   "nbconvert_exporter": "python",
   "pygments_lexer": "ipython3",
   "version": "3.7.7"
  }
 },
 "nbformat": 4,
 "nbformat_minor": 4
}
