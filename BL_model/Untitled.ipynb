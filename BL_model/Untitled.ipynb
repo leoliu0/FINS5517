{
 "cells": [
  {
   "cell_type": "code",
   "execution_count": 17,
   "id": "a5ed793d-a7a0-41ed-b79f-f84f3fb1846d",
   "metadata": {},
   "outputs": [],
   "source": [
    "import pandas as pd\n",
    "from pypfopt import EfficientFrontier,risk_models, expected_returns, plotting"
   ]
  },
  {
   "cell_type": "code",
   "execution_count": 7,
   "id": "dbd1fa61-8039-465e-b80f-3d119f34bd23",
   "metadata": {},
   "outputs": [],
   "source": [
    "df = pd.read_csv(\"stock_prices.csv\", parse_dates=True, index_col=\"date\")"
   ]
  },
  {
   "cell_type": "code",
   "execution_count": 8,
   "id": "cdfe17db-6af3-4550-8cfa-f931c8c1d018",
   "metadata": {},
   "outputs": [],
   "source": [
    "# Calculate expected returns and sample covariance\n",
    "mu = expected_returns.mean_historical_return(df)\n",
    "S = risk_models.sample_cov(df)"
   ]
  },
  {
   "cell_type": "code",
   "execution_count": 11,
   "id": "6b9ee67e-3d54-4596-a4e8-8c841459d3d0",
   "metadata": {},
   "outputs": [],
   "source": [
    "# Optimize for maximal Sharpe ratio\n",
    "ef = EfficientFrontier(mu, S)\n",
    "raw_weights = ef.max_sharpe()\n",
    "cleaned_weights = ef.clean_weights()"
   ]
  },
  {
   "cell_type": "code",
   "execution_count": 14,
   "id": "d989d7d8-2307-463f-a114-9deb75498179",
   "metadata": {},
   "outputs": [
    {
     "name": "stdout",
     "output_type": "stream",
     "text": [
      "Expected annual return: 30.5%\n",
      "Annual volatility: 22.2%\n",
      "Sharpe Ratio: 1.28\n"
     ]
    },
    {
     "data": {
      "text/plain": [
       "(0.3047768672819918, 0.22165566922402968, 1.2847714127003216)"
      ]
     },
     "execution_count": 14,
     "metadata": {},
     "output_type": "execute_result"
    }
   ],
   "source": [
    "ef.portfolio_performance(verbose=True)"
   ]
  }
 ],
 "metadata": {
  "kernelspec": {
   "display_name": "Python 3 (ipykernel)",
   "language": "python",
   "name": "python3"
  },
  "language_info": {
   "codemirror_mode": {
    "name": "ipython",
    "version": 3
   },
   "file_extension": ".py",
   "mimetype": "text/x-python",
   "name": "python",
   "nbconvert_exporter": "python",
   "pygments_lexer": "ipython3",
   "version": "3.9.7"
  }
 },
 "nbformat": 4,
 "nbformat_minor": 5
}
